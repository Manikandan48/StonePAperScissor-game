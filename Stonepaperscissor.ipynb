{
  "nbformat": 4,
  "nbformat_minor": 0,
  "metadata": {
    "colab": {
      "name": "Stonepaperscissor.ipynb",
      "provenance": [],
      "authorship_tag": "ABX9TyNkz2r9yir2lv9bHAcbvBZp",
      "include_colab_link": true
    },
    "kernelspec": {
      "name": "python3",
      "display_name": "Python 3"
    }
  },
  "cells": [
    {
      "cell_type": "markdown",
      "metadata": {
        "id": "view-in-github",
        "colab_type": "text"
      },
      "source": [
        "<a href=\"https://colab.research.google.com/github/Manikandan48/nn/blob/master/Stonepaperscissor.ipynb\" target=\"_parent\"><img src=\"https://colab.research.google.com/assets/colab-badge.svg\" alt=\"Open In Colab\"/></a>"
      ]
    },
    {
      "cell_type": "code",
      "metadata": {
        "id": "ES9qtP8ON9nK",
        "colab_type": "code",
        "colab": {}
      },
      "source": [
        "def takePlayerInput():\n",
        "    player = \"blank\"\n",
        "    while not( player.lower() == \"r\" or player.lower() == \"p\" or player.lower() == \"s\") :\n",
        "        player = input(\"Please Enter your input out of - R | P | S = \")\n",
        "    return player.lower()"
      ],
      "execution_count": 2,
      "outputs": []
    },
    {
      "cell_type": "code",
      "metadata": {
        "id": "15Y4WkdAONVM",
        "colab_type": "code",
        "colab": {
          "base_uri": "https://localhost:8080/",
          "height": 86
        },
        "outputId": "a78b0355-e275-405e-b1b5-fb29c517b9fe"
      },
      "source": [
        "takePlayerInput()"
      ],
      "execution_count": 3,
      "outputs": [
        {
          "output_type": "stream",
          "text": [
            "Please Enter your input out of - R | P | S = q\n",
            "Please Enter your input out of - R | P | S = v\n",
            "Please Enter your input out of - R | P | S = r\n"
          ],
          "name": "stdout"
        },
        {
          "output_type": "execute_result",
          "data": {
            "application/vnd.google.colaboratory.intrinsic+json": {
              "type": "string"
            },
            "text/plain": [
              "'r'"
            ]
          },
          "metadata": {
            "tags": []
          },
          "execution_count": 3
        }
      ]
    },
    {
      "cell_type": "code",
      "metadata": {
        "id": "SYg80BY2OYrG",
        "colab_type": "code",
        "colab": {}
      },
      "source": [
        "import random \n",
        "def getBotInput():\n",
        "    lst = ['r','s','p']\n",
        "    return random.choice(lst)"
      ],
      "execution_count": 4,
      "outputs": []
    },
    {
      "cell_type": "code",
      "metadata": {
        "id": "yrnWv1D9OeZ5",
        "colab_type": "code",
        "colab": {
          "base_uri": "https://localhost:8080/",
          "height": 35
        },
        "outputId": "ed709c65-3414-48e9-fbed-f6096cd181a2"
      },
      "source": [
        "getBotInput()"
      ],
      "execution_count": 5,
      "outputs": [
        {
          "output_type": "execute_result",
          "data": {
            "application/vnd.google.colaboratory.intrinsic+json": {
              "type": "string"
            },
            "text/plain": [
              "'p'"
            ]
          },
          "metadata": {
            "tags": []
          },
          "execution_count": 5
        }
      ]
    },
    {
      "cell_type": "code",
      "metadata": {
        "id": "IPzaFPr8OmZJ",
        "colab_type": "code",
        "colab": {}
      },
      "source": [
        "def checkWinner(player,bot):\n",
        "    if player == 'r' and bot == \"r\":\n",
        "        return \"draw\"\n",
        "    elif player == \"r\" and bot == \"p\":\n",
        "        return \"bot\"\n",
        "    elif player == \"r\" and bot == \"s\":\n",
        "        return \"player\"\n",
        "    elif player == \"p\" and bot == \"s\":\n",
        "        return \"bot\"\n",
        "    elif player == \"p\" and bot == \"r\":\n",
        "        return \"player\"\n",
        "    elif player == \"p\" and bot == \"p\":\n",
        "        return \"draw\"\n",
        "    elif player == \"s\" and bot == \"r\":\n",
        "        return \"bot\"\n",
        "    elif player == \"s\" and bot == \"p\":\n",
        "        return \"player\"\n",
        "    elif player == \"s\" and bot == \"s\":\n",
        "        return \"draw\"\n",
        "    else:\n",
        "        return \"draw\""
      ],
      "execution_count": 7,
      "outputs": []
    },
    {
      "cell_type": "code",
      "metadata": {
        "id": "nMUUTGZjOqvz",
        "colab_type": "code",
        "colab": {
          "base_uri": "https://localhost:8080/",
          "height": 35
        },
        "outputId": "71c09a70-97e0-4b11-9ea2-a6fd19643924"
      },
      "source": [
        "checkWinner(player = \"r\",bot = \"p\")"
      ],
      "execution_count": 8,
      "outputs": [
        {
          "output_type": "execute_result",
          "data": {
            "application/vnd.google.colaboratory.intrinsic+json": {
              "type": "string"
            },
            "text/plain": [
              "'bot'"
            ]
          },
          "metadata": {
            "tags": []
          },
          "execution_count": 8
        }
      ]
    },
    {
      "cell_type": "code",
      "metadata": {
        "id": "ZNzmJ0DAOwhj",
        "colab_type": "code",
        "colab": {}
      },
      "source": [
        "def rockPaperScissor():\n",
        "    endTheGame = \"n\"\n",
        "    player_score = 0 \n",
        "    bot_score = 0\n",
        "    while endTheGame.lower() != \"y\":\n",
        "        ply = takePlayerInput()\n",
        "        bt = getBotInput()\n",
        "        print('Bot Entered - ', bt)\n",
        "        print(\" \")\n",
        "        winner = checkWinner(player = ply, bot = bt)\n",
        "        print(\" Winner is - \", winner)\n",
        "        print(\" \")\n",
        "        if winner == \"player\":\n",
        "            player_score += 2\n",
        "        elif winner == \"bot\":\n",
        "            bot_score += 2\n",
        "        else :\n",
        "            player_score += 1\n",
        "            bot_score += 1\n",
        "            \n",
        "        print(\"--Score board--\")\n",
        "        print(\"PLAYER \",player_score)\n",
        "        print(\"Bot ---\",bot_score)\n",
        "        print(\" \")\n",
        "        endTheGame = input(\"You want to end Y/N - \")"
      ],
      "execution_count": 9,
      "outputs": []
    },
    {
      "cell_type": "code",
      "metadata": {
        "id": "cR6gIB2eOzZ3",
        "colab_type": "code",
        "colab": {
          "base_uri": "https://localhost:8080/",
          "height": 527
        },
        "outputId": "7c8d5571-b622-405c-d4a0-33d4aa4331b6"
      },
      "source": [
        "rockPaperScissor()"
      ],
      "execution_count": 10,
      "outputs": [
        {
          "output_type": "stream",
          "text": [
            "Please Enter your input out of - R | P | S = r\n",
            "Bot Entered -  s\n",
            " \n",
            " Winner is -  player\n",
            " \n",
            "--Score board--\n",
            "PLAYER  2\n",
            "Bot --- 0\n",
            " \n",
            "You want to end Y/N - n\n",
            "Please Enter your input out of - R | P | S = p\n",
            "Bot Entered -  s\n",
            " \n",
            " Winner is -  bot\n",
            " \n",
            "--Score board--\n",
            "PLAYER  2\n",
            "Bot --- 2\n",
            " \n",
            "You want to end Y/N - n\n",
            "Please Enter your input out of - R | P | S = s\n",
            "Bot Entered -  s\n",
            " \n",
            " Winner is -  draw\n",
            " \n",
            "--Score board--\n",
            "PLAYER  3\n",
            "Bot --- 3\n",
            " \n",
            "You want to end Y/N - y\n"
          ],
          "name": "stdout"
        }
      ]
    }
  ]
}